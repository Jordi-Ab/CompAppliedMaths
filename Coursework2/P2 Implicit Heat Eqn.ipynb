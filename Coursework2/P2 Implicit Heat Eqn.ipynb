{
 "cells": [
  {
   "cell_type": "code",
   "execution_count": 1,
   "metadata": {
    "collapsed": true
   },
   "outputs": [],
   "source": [
    "import numpy as np\n",
    "import scipy.linalg as la\n",
    "import matplotlib.pyplot as pt\n",
    "%matplotlib inline"
   ]
  },
  {
   "cell_type": "markdown",
   "metadata": {},
   "source": [
    "Here we use the Implicit method to solve the parabolic PDE (heat equation) for $u(t,x) \\in \\mathbb{R}$ subject to Dirichlet BC's and initial condition:\n",
    "\n",
    "\n",
    "$U_t - aU_{xx}= f(t, x) \\space \\space \\text{for}\\space t \\in (0,T], \\space x \\in (0,1)\\\\$\n",
    "\n",
    "$U(t,0)=g_0,\\\\$\n",
    "$U(t,1)=g_1,\\\\$\n",
    "$U(0,x)=U_0(x)\\\\$\n",
    "\n",
    "\n",
    "with $a>0$ (heat-conduction coefficient), $T>0$ and $U_0: (0,1) \\rightarrow \\mathbb{R}$"
   ]
  },
  {
   "cell_type": "code",
   "execution_count": 2,
   "metadata": {
    "collapsed": false
   },
   "outputs": [],
   "source": [
    "def plot_sol(xmesh, u_computed, l_BC, r_BC, u_true=None):\n",
    "    \n",
    "    # Assembre complete solution with BCs\n",
    "    sol = np.zeros(n_x+1)\n",
    "    sol[0] = l_BC\n",
    "    sol[1:-1] = uh\n",
    "    sol[-1] = r_BC\n",
    "    \n",
    "    fig = pt.figure()\n",
    "    ax = fig.add_subplot(1,1,1)\n",
    "    ax.plot(xmesh, sol, 'ro', label = 'computed')\n",
    "    if(u_true is not None): ax.plot(xmesh, u_true, 'b-', label = 'true')\n",
    "    ax.set_title(r\"Heat Equation @ time: \"+str(t))\n",
    "    ax.legend(loc='upper left')\n",
    "    ax.set_xlabel('x space')\n",
    "    ax.set_ylabel('u(x,'+str(t)+') state') "
   ]
  },
  {
   "cell_type": "code",
   "execution_count": 3,
   "metadata": {
    "collapsed": true
   },
   "outputs": [],
   "source": [
    "# True solution function\n",
    "def true_sol(t, x):\n",
    "    #return np.exp(-t)*np.sin(np.pi*x) + np.exp(-4*t)*np.sin(2*np.pi*x) # Epperson Example\n",
    "    return np.exp(-4*t)*np.sin(2*np.pi*x) + x # Function on CW\n",
    "    #return np.exp(-(np.pi**2)*t)*np.sin(np.pi*x) # Epperson excercise\n",
    "\n",
    "# Right Hand Side f(t, x)\n",
    "def rhs_f(t, xvec):\n",
    "    return np.zeros(xvec.size)\n",
    "\n",
    "# Initial condition function u0(x) \n",
    "def u_0(x): \n",
    "    #return np.sin(np.pi*x) + np.sin(2*np.pi*x) # Epperson Example\n",
    "    return np.sin(2*np.pi*x) + x # Function on CW\n",
    "    #return np.sin(np.pi*x) # Epperson excercise"
   ]
  },
  {
   "cell_type": "code",
   "execution_count": 4,
   "metadata": {
    "collapsed": true
   },
   "outputs": [],
   "source": [
    "# Data for numerical method.\n",
    "n_x = 16\n",
    "n_t = 64\n",
    "T = 1\n",
    "a = 1/(np.pi**2)\n",
    "#a = 1\n",
    "g0 = 0\n",
    "g1 = 1"
   ]
  },
  {
   "cell_type": "code",
   "execution_count": 5,
   "metadata": {
    "collapsed": true
   },
   "outputs": [],
   "source": [
    "# Meshes\n",
    "xs = np.linspace(0,1, n_x+1)\n",
    "h = xs[1] - xs[0]\n",
    "ts = np.linspace(0,T, n_t+1)\n",
    "dt = ts[1] - ts[0]"
   ]
  },
  {
   "cell_type": "code",
   "execution_count": 12,
   "metadata": {
    "collapsed": false
   },
   "outputs": [
    {
     "name": "stdout",
     "output_type": "stream",
     "text": [
      "0.125\n",
      "1.0\n"
     ]
    }
   ],
   "source": [
    "print(h)\n",
    "print(dt/(h*h))"
   ]
  },
  {
   "cell_type": "code",
   "execution_count": 6,
   "metadata": {
    "collapsed": true
   },
   "outputs": [],
   "source": [
    "# Courant-Friedrichs-Loewy coefficient.\n",
    "cfl = a * dt / h / h"
   ]
  },
  {
   "cell_type": "code",
   "execution_count": 7,
   "metadata": {
    "collapsed": true
   },
   "outputs": [],
   "source": [
    "# Inner tridiagonal matrix\n",
    "first_row = np.zeros(n_x-1)\n",
    "first_row[0] = 2\n",
    "first_row[1] = -1\n",
    "K = la.toeplitz([first_row])\n",
    "#print(K)"
   ]
  },
  {
   "cell_type": "code",
   "execution_count": 8,
   "metadata": {
    "collapsed": true
   },
   "outputs": [],
   "source": [
    "I = np.eye(n_x-1)"
   ]
  },
  {
   "cell_type": "code",
   "execution_count": null,
   "metadata": {
    "collapsed": false
   },
   "outputs": [],
   "source": []
  },
  {
   "cell_type": "code",
   "execution_count": 10,
   "metadata": {
    "collapsed": false
   },
   "outputs": [
    {
     "name": "stdout",
     "output_type": "stream",
     "text": [
      "At time:0.0\tuh = [ 0.44518343  0.83210678  1.11137953  1.25        1.23637953  1.08210678\n",
      "  0.82018343  0.5         0.17981657 -0.08210678 -0.23637953 -0.25\n",
      " -0.11137953  0.16789322  0.55481657]\n",
      "At time:0.015625\tuh = [ 0.42294372  0.79101315  1.05768812  1.19188483  1.18268812  1.04101315\n",
      "  0.79794372  0.5         0.20205628 -0.04101315 -0.18268812 -0.19188483\n",
      " -0.05768812  0.20898685  0.57705628]\n",
      "At time:0.03125\tuh = [ 0.40199647  0.75230769  1.00711699  1.13714704  1.13211699  1.00230769\n",
      "  0.77699647  0.5         0.22300353 -0.00230769 -0.13211699 -0.13714704\n",
      " -0.00711699  0.24769231  0.59800353]\n",
      "At time:0.046875\tuh = [ 0.38226658  0.7158516   0.95948481  1.08559034  1.08448481  0.9658516\n",
      "  0.75726658  0.5         0.24273342  0.0341484  -0.08448481 -0.08559034\n",
      "  0.04051519  0.2841484   0.61773342]\n",
      "At time:0.0625\tuh = [ 0.36368329  0.68151416  0.91462079  1.03702987  1.03962079  0.93151416\n",
      "  0.73868329  0.5         0.26131671  0.06848584 -0.03962079 -0.03702987\n",
      "  0.08537921  0.31848584  0.63631671]\n",
      "At time:0.078125\tuh = [ 0.34617997  0.64917224  0.87236404  0.9912915   0.99736404  0.89917224\n",
      "  0.72117997  0.5         0.27882003  0.10082776  0.00263596  0.0087085\n",
      "  0.12763596  0.35082776  0.65382003]\n",
      "At time:0.09375\tuh = [ 0.32969386  0.61870989  0.83256305  0.94821122  0.95756305  0.86870989\n",
      "  0.70469386  0.5         0.29530614  0.13129011  0.04243695  0.05178878\n",
      "  0.16743695  0.38129011  0.67030614]\n",
      "At time:0.109375\tuh = [ 0.31416585  0.59001785  0.7950751   0.90763455  0.9200751   0.84001785\n",
      "  0.68916585  0.5         0.31083415  0.15998215  0.0799249   0.09236545\n",
      "  0.2049249   0.40998215  0.68583415]\n",
      "At time:0.125\tuh = [ 0.29954025  0.56299326  0.75976578  0.86941601  0.88476578  0.81299326\n",
      "  0.67454025  0.5         0.32545975  0.18700674  0.11523422  0.13058399\n",
      "  0.24023422  0.43700674  0.70045975]\n",
      "At time:0.140625\tuh = [ 0.28576461  0.53753921  0.72650845  0.83341855  0.85150845  0.78753921\n",
      "  0.66076461  0.5         0.33923539  0.21246079  0.14849155  0.16658145\n",
      "  0.27349155  0.46246079  0.71423539]\n",
      "At time:0.15625\tuh = [ 0.27278955  0.51356443  0.69518389  0.79951308  0.82018389  0.76356443\n",
      "  0.64778955  0.5         0.35221045  0.23643557  0.17981611  0.20048692\n",
      "  0.30481611  0.48643557  0.72721045]\n",
      "At time:0.171875\tuh = [ 0.26056854  0.49098294  0.66567975  0.76757804  0.79067975  0.74098294\n",
      "  0.63556854  0.5         0.36443146  0.25901706  0.20932025  0.23242196\n",
      "  0.33432025  0.50901706  0.73943146]\n",
      "At time:0.1875\tuh = [ 0.24905775  0.46971378  0.63789026  0.7374989   0.76289026  0.71971378\n",
      "  0.62405775  0.5         0.37594225  0.28028622  0.23710974  0.2625011\n",
      "  0.36210974  0.53028622  0.75094225]\n",
      "At time:0.203125\tuh = [ 0.23821592  0.44968068  0.61171575  0.70916782  0.73671575  0.69968068\n",
      "  0.61321592  0.5         0.38678408  0.30031932  0.26328425  0.29083218\n",
      "  0.38828425  0.55031932  0.76178408]\n",
      "At time:0.21875\tuh = [ 0.22800416  0.43081181  0.58706238  0.68248321  0.71206238  0.68081181\n",
      "  0.60300416  0.5         0.39699584  0.31918819  0.28793762  0.31751679\n",
      "  0.41293762  0.56918819  0.77199584]\n",
      "At time:0.234375\tuh = [ 0.21838586  0.4130395   0.56384175  0.65734937  0.68884175  0.6630395\n",
      "  0.59338586  0.5         0.40661414  0.3369605   0.31115825  0.34265063\n",
      "  0.43615825  0.5869605   0.78161414]\n",
      "At time:0.25\tuh = [ 0.20932652  0.39630004  0.54197058  0.6336762   0.66697058  0.64630004\n",
      "  0.58432652  0.5         0.41567348  0.35369996  0.33302942  0.3663238\n",
      "  0.45802942  0.60369996  0.79067348]\n",
      "At time:0.265625\tuh = [ 0.20079368  0.38053339  0.52137047  0.61137879  0.64637047  0.63053339\n",
      "  0.57579368  0.5         0.42420632  0.36946661  0.35362953  0.38862121\n",
      "  0.47862953  0.61946661  0.79920632]\n",
      "At time:0.28125\tuh = [ 0.19275672  0.36568303  0.50196753  0.5903772   0.62696753  0.61568303\n",
      "  0.56775672  0.5         0.43224328  0.38431697  0.37303247  0.4096228\n",
      "  0.49803247  0.63431697  0.80724328]\n",
      "At time:0.296875\tuh = [ 0.18518682  0.35169569  0.4836922   0.57059612  0.6086922   0.60169569\n",
      "  0.56018682  0.5         0.43981318  0.39830431  0.3913078   0.42940388\n",
      "  0.5163078   0.64830431  0.81481318]\n",
      "At time:0.3125\tuh = [ 0.17805686  0.33852123  0.46647894  0.55196463  0.59147894  0.58852123\n",
      "  0.55305686  0.5         0.44694314  0.41147877  0.40852106  0.44803537\n",
      "  0.53352106  0.66147877  0.82194314]\n",
      "At time:0.328125\tuh = [ 0.17134125  0.32611241  0.45026603  0.5344159   0.57526603  0.57611241\n",
      "  0.54634125  0.5         0.45365875  0.42388759  0.42473397  0.4655841\n",
      "  0.54973397  0.67388759  0.82865875]\n",
      "At time:0.34375\tuh = [ 0.16501593  0.31442473  0.43499534  0.51788702  0.55999534  0.56442473\n",
      "  0.54001593  0.5         0.45998407  0.43557527  0.44000466  0.48211298\n",
      "  0.56500466  0.68557527  0.83498407]\n",
      "At time:0.359375\tuh = [ 0.1590582   0.30341628  0.4206121   0.50231872  0.5456121   0.55341628\n",
      "  0.5340582   0.5         0.4659418   0.44658372  0.4543879   0.49768128\n",
      "  0.5793879   0.69658372  0.8409418 ]\n",
      "At time:0.375\tuh = [ 0.1534467   0.29304759  0.40706476  0.48765518  0.53206476  0.54304759\n",
      "  0.5284467   0.5         0.4715533   0.45695241  0.46793524  0.51234482\n",
      "  0.59293524  0.70695241  0.8465533 ]\n",
      "At time:0.390625\tuh = [ 0.14816132  0.28328148  0.39430471  0.47384381  0.51930471  0.53328148\n",
      "  0.52316132  0.5         0.47683868  0.46671852  0.48069529  0.52615619\n",
      "  0.60569529  0.71671852  0.85183868]\n",
      "At time:0.40625\tuh = [ 0.1431831   0.27408292  0.38228622  0.46083509  0.50728622  0.52408292\n",
      "  0.5181831   0.5         0.4818169   0.47591708  0.49271378  0.53916491\n",
      "  0.61771378  0.72591708  0.8568169 ]\n",
      "At time:0.421875\tuh = [ 0.13849418  0.26541894  0.37096619  0.44858237  0.49596619  0.51541894\n",
      "  0.51349418  0.5         0.48650582  0.48458106  0.50403381  0.55141763\n",
      "  0.62903381  0.73458106  0.86150582]\n",
      "At time:0.4375\tuh = [ 0.13407777  0.25725847  0.36030402  0.43704172  0.48530402  0.50725847\n",
      "  0.50907777  0.5         0.49092223  0.49274153  0.51469598  0.56295828\n",
      "  0.63969598  0.74274153  0.86592223]\n",
      "At time:0.453125\tuh = [ 0.12991802  0.24957225  0.35026149  0.42617176  0.47526149  0.49957225\n",
      "  0.50491802  0.5         0.49508198  0.50042775  0.52473851  0.57382824\n",
      "  0.64973851  0.75042775  0.87008198]\n",
      "At time:0.46875\tuh = [ 0.12600001  0.24233271  0.34080258  0.41593351  0.46580258  0.49233271\n",
      "  0.50100001  0.5         0.49899999  0.50766729  0.53419742  0.58406649\n",
      "  0.65919742  0.75766729  0.87399999]\n",
      "At time:0.484375\tuh = [ 0.12230969  0.2355139   0.33189337  0.40629026  0.45689337  0.4855139\n",
      "  0.49730969  0.5         0.50269031  0.5144861   0.54310663  0.59370974\n",
      "  0.66810663  0.7644861   0.87769031]\n",
      "At time:0.5\tuh = [ 0.11883384  0.22909137  0.32350193  0.39720742  0.44850193  0.47909137\n",
      "  0.49383384  0.5         0.50616616  0.52090863  0.55149807  0.60279258\n",
      "  0.67649807  0.77090863  0.88116616]\n",
      "At time:0.515625\tuh = [ 0.11555999  0.22304208  0.31559815  0.38865244  0.44059815  0.47304208\n",
      "  0.49055999  0.5         0.50944001  0.52695792  0.55940185  0.61134756\n",
      "  0.68440185  0.77695792  0.88444001]\n",
      "At time:0.53125\tuh = [ 0.1124764   0.21734435  0.30815371  0.38059463  0.43315371  0.46734435\n",
      "  0.4874764   0.5         0.5125236   0.53265565  0.56684629  0.61940537\n",
      "  0.69184629  0.78265565  0.8875236 ]\n",
      "At time:0.546875\tuh = [ 0.10957201  0.21197774  0.3011419   0.3730051   0.4261419   0.46197774\n",
      "  0.48457201  0.5         0.51542799  0.53802226  0.5738581   0.6269949\n",
      "  0.6988581   0.78802226  0.89042799]\n",
      "At time:0.5625\tuh = [ 0.10683642  0.20692302  0.29453758  0.36585664  0.41953758  0.45692302\n",
      "  0.48183642  0.5         0.51816358  0.54307698  0.58046242  0.63414336\n",
      "  0.70546242  0.79307698  0.89316358]\n",
      "At time:0.578125\tuh = [ 0.1042598   0.20216205  0.28831707  0.35912361  0.41331707  0.45216205\n",
      "  0.4792598   0.5         0.5207402   0.54783795  0.58668293  0.64087639\n",
      "  0.71168293  0.79783795  0.8957402 ]\n",
      "At time:0.59375\tuh = [ 0.10183292  0.19767776  0.28245807  0.35278187  0.40745807  0.44767776\n",
      "  0.47683292  0.5         0.52316708  0.55232224  0.59254193  0.64721813\n",
      "  0.71754193  0.80232224  0.89816708]\n",
      "At time:0.609375\tuh = [ 0.09954708  0.19345408  0.27693957  0.34680869  0.40193957  0.44345408\n",
      "  0.47454708  0.5         0.52545292  0.55654592  0.59806043  0.65319131\n",
      "  0.72306043  0.80654592  0.90045292]\n",
      "At time:0.625\tuh = [ 0.09739408  0.18947586  0.27174177  0.34118264  0.39674177  0.43947586\n",
      "  0.47239408  0.5         0.52760592  0.56052414  0.60325823  0.65881736\n",
      "  0.72825823  0.81052414  0.90260592]\n",
      "At time:0.640625\tuh = [ 0.09536621  0.18572883  0.26684605  0.33588354  0.39184605  0.43572883\n",
      "  0.47036621  0.5         0.52963379  0.56427117  0.60815395  0.66411646\n",
      "  0.73315395  0.81427117  0.90463379]\n",
      "At time:0.65625\tuh = [ 0.09345618  0.18219957  0.26223484  0.3308924   0.38723484  0.43219957\n",
      "  0.46845618  0.5         0.53154382  0.56780043  0.61276516  0.6691076\n",
      "  0.73776516  0.81780043  0.90654382]\n",
      "At time:0.671875\tuh = [ 0.09165716  0.17887541  0.25789161  0.32619133  0.38289161  0.42887541\n",
      "  0.46665716  0.5         0.53334284  0.57112459  0.61710839  0.67380867\n",
      "  0.74210839  0.82112459  0.90834284]\n",
      "At time:0.6875\tuh = [ 0.08996269  0.17574443  0.25380079  0.32176346  0.37880079  0.42574443\n",
      "  0.46496269  0.5         0.53503731  0.57425557  0.62119921  0.67823654\n",
      "  0.74619921  0.82425557  0.91003731]\n",
      "At time:0.703125\tuh = [ 0.08836669  0.17279541  0.24994771  0.31759291  0.37494771  0.42279541\n",
      "  0.46336669  0.5         0.53663331  0.57720459  0.62505229  0.68240709\n",
      "  0.75005229  0.82720459  0.91163331]\n",
      "At time:0.71875\tuh = [ 0.08686344  0.17001777  0.24631855  0.31366474  0.37131855  0.42001777\n",
      "  0.46186344  0.5         0.53813656  0.57998223  0.62868145  0.68633526\n",
      "  0.75368145  0.82998223  0.91313656]\n",
      "At time:0.734375\tuh = [ 0.08544756  0.16740155  0.2429003   0.30996485  0.3679003   0.41740155\n",
      "  0.46044756  0.5         0.53955244  0.58259845  0.6320997   0.69003515\n",
      "  0.7570997   0.83259845  0.91455244]\n",
      "At time:0.75\tuh = [ 0.08411395  0.16493738  0.2396807   0.30647998  0.3646807   0.41493738\n",
      "  0.45911395  0.5         0.54088605  0.58506262  0.6353193   0.69352002\n",
      "  0.7603193   0.83506262  0.91588605]\n",
      "At time:0.765625\tuh = [ 0.08285786  0.16261641  0.23664821  0.30319764  0.36164821  0.41261641\n",
      "  0.45785786  0.5         0.54214214  0.58738359  0.63835179  0.69680236\n",
      "  0.76335179  0.83738359  0.91714214]\n",
      "At time:0.78125\tuh = [ 0.08167476  0.16043033  0.23379195  0.30010605  0.35879195  0.41043033\n",
      "  0.45667476  0.5         0.54332524  0.58956967  0.64120805  0.69989395\n",
      "  0.76620805  0.83956967  0.91832524]\n",
      "At time:0.796875\tuh = [ 0.08056041  0.15837129  0.23110169  0.29719413  0.35610169  0.40837129\n",
      "  0.45556041  0.5         0.54443959  0.59162871  0.64389831  0.70280587\n",
      "  0.76889831  0.84162871  0.91943959]\n",
      "At time:0.8125\tuh = [ 0.07951083  0.15643191  0.22856777  0.29445143  0.35356777  0.40643191\n",
      "  0.45451083  0.5         0.54548917  0.59356809  0.64643223  0.70554857\n",
      "  0.77143223  0.84356809  0.92048917]\n",
      "At time:0.828125\tuh = [ 0.07852224  0.15460524  0.22618111  0.29186813  0.35118111  0.40460524\n",
      "  0.45352224  0.5         0.54647776  0.59539476  0.64881889  0.70813187\n",
      "  0.77381889  0.84539476  0.92147776]\n",
      "At time:0.84375\tuh = [ 0.07759111  0.15288473  0.22393315  0.28943496  0.34893315  0.40288473\n",
      "  0.45259111  0.5         0.54740889  0.59711527  0.65106685  0.71056504\n",
      "  0.77606685  0.84711527  0.92240889]\n",
      "At time:0.859375\tuh = [ 0.07671408  0.1512642   0.22181583  0.28714319  0.34681583  0.4012642\n",
      "  0.45171408  0.5         0.54828592  0.5987358   0.65318417  0.71285681\n",
      "  0.77818417  0.8487358   0.92328592]\n",
      "At time:0.875\tuh = [ 0.07588803  0.14973785  0.21982156  0.28498461  0.34482156  0.39973785\n",
      "  0.45088803  0.5         0.54911197  0.60026215  0.65517844  0.71501539\n",
      "  0.78017844  0.85026215  0.92411197]\n",
      "At time:0.890625\tuh = [ 0.07510998  0.14830021  0.21794319  0.28295147  0.34294319  0.39830021\n",
      "  0.45010998  0.5         0.54989002  0.60169979  0.65705681  0.71704853\n",
      "  0.78205681  0.85169979  0.92489002]\n",
      "At time:0.90625\tuh = [ 0.07437715  0.14694611  0.21617398  0.28103649  0.34117398  0.39694611\n",
      "  0.44937715  0.5         0.55062285  0.60305389  0.65882602  0.71896351\n",
      "  0.78382602  0.85305389  0.92562285]\n",
      "At time:0.921875\tuh = [ 0.07368691  0.14567071  0.21450758  0.2792328   0.33950758  0.39567071\n",
      "  0.44868691  0.5         0.55131309  0.60432929  0.66049242  0.7207672\n",
      "  0.78549242  0.85432929  0.92631309]\n",
      "At time:0.9375\tuh = [ 0.07303678  0.14446943  0.21293803  0.27753393  0.33793803  0.39446943\n",
      "  0.44803678  0.5         0.55196322  0.60553057  0.66206197  0.72246607\n",
      "  0.78706197  0.85553057  0.92696322]\n",
      "At time:0.953125\tuh = [ 0.07242443  0.14333796  0.2114597   0.27593379  0.3364597   0.39333796\n",
      "  0.44742443  0.5         0.55257557  0.60666204  0.6635403   0.72406621\n",
      "  0.7885403   0.85666204  0.92757557]\n",
      "At time:0.96875\tuh = [ 0.07184767  0.14227225  0.21006728  0.27442664  0.33506728  0.39227225\n",
      "  0.44684767  0.5         0.55315233  0.60772775  0.66493272  0.72557336\n",
      "  0.78993272  0.85772775  0.92815233]\n",
      "At time:0.984375\tuh = [ 0.07130443  0.14126847  0.20875578  0.27300709  0.33375578  0.39126847\n",
      "  0.44630443  0.5         0.55369557  0.60873153  0.66624422  0.72699291\n",
      "  0.79124422  0.85873153  0.92869557]\n",
      "At time:1.0\tuh = [ 0.07079276  0.14032302  0.20752049  0.27167003  0.33252049  0.39032302\n",
      "  0.44579276  0.5         0.55420724  0.60967698  0.66747951  0.72832997\n",
      "  0.79247951  0.85967698  0.92920724]\n"
     ]
    },
    {
     "data": {
      "image/png": "[encoded data removed]",
      "text/plain": [
       "<matplotlib.figure.Figure at 0x10ba8c7f0>"
      ]
     },
     "metadata": {},
     "output_type": "display_data"
    },
    {
     "data": {
      "image/png": "[encoded data removed]",
      "text/plain": [
       "<matplotlib.figure.Figure at 0x10bb10780>"
      ]
     },
     "metadata": {},
     "output_type": "display_data"
    },
    {
     "data": {
      "image/png": "[encoded data removed]",
      "text/plain": [
       "<matplotlib.figure.Figure at 0x10bab0630>"
      ]
     },
     "metadata": {},
     "output_type": "display_data"
    }
   ],
   "source": [
    "uh = u_0(xs[1:-1])\n",
    "for t in ts:\n",
    "    \n",
    "    print (\"At time:\" + str(t)+ \"\\tuh = \"+str(uh))\n",
    "    \n",
    "    # Right Hand Side\n",
    "    rhs = rhs_f(t+dt,xs[1:-1])\n",
    "    rhs[0] = rhs[0] + (a/(h**2))*g0 # Include Left BC\n",
    "    rhs[-1] = rhs[-1] + (a/(h**2))*g1 # Include Right BC\n",
    " \n",
    "    u_true = true_sol(t, xs)\n",
    "    \n",
    "    if(t == 0 or t == 0.5 or t==1): plot_sol(xs, uh, g0, g1, u_true)\n",
    "           \n",
    "    uh = la.solve( (I + cfl*K), (uh+rhs*dt) ) "
   ]
  },
  {
   "cell_type": "code",
   "execution_count": null,
   "metadata": {
    "collapsed": true
   },
   "outputs": [],
   "source": []
  }
 ],
 "metadata": {
  "kernelspec": {
   "display_name": "Python 3",
   "language": "python",
   "name": "python3"
  },
  "language_info": {
   "codemirror_mode": {
    "name": "ipython",
    "version": 3
   },
   "file_extension": ".py",
   "mimetype": "text/x-python",
   "name": "python",
   "nbconvert_exporter": "python",
   "pygments_lexer": "ipython3",
   "version": "3.5.1"
  }
 },
 "nbformat": 4,
 "nbformat_minor": 1
}
