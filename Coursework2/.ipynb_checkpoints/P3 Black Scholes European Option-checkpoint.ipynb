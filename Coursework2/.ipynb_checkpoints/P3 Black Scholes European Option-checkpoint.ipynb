{
 "cells": [
  {
   "cell_type": "code",
   "execution_count": 1,
   "metadata": {
    "collapsed": true
   },
   "outputs": [],
   "source": [
    "from math import *\n",
    "import numpy as np\n",
    "import scipy.linalg as la\n",
    "import matplotlib.pyplot as pt\n",
    "import scipy.sparse as sps\n",
    "from scipy.sparse.linalg import spsolve\n",
    "%matplotlib inline"
   ]
  },
  {
   "cell_type": "markdown",
   "metadata": {},
   "source": [
    "Here we use the Implicit method to solve the parabolic PDE (Black-Scholes equation) for $v(t,x) \\in \\mathbb{R}$ subject to time dependent Dirichlet BC's and initial condition:\n",
    "\n",
    "\n",
    "$\\large\\frac{\\partial v}{\\partial t}$ $ - \\frac{1}{2}\\sigma^2 x^2 $$ \\large\\frac{\\partial^2 v}{\\partial x^2}$$ - rx $$\\large{\\frac{\\partial v}{\\partial x}}$$ + rv = 0 \\space \\space \\text{for}\\space t \\in (0,T], \\space x \\in (0,R)\\\\$\n",
    "\n",
    "$\n",
    "v(t,0)=f_0(t),\\\\\n",
    "v(t,R)=f_R(t),\\\\\n",
    "U(0,x)=g(x)\\\\\n",
    "$\n",
    "\n",
    "\n",
    "with $\\sigma>0$ (constant volatility), $r>0$ (interest rate), $T>0$, $R>0$, $f_0: (0,T] \\rightarrow \\mathbb{R}$, $f_R: (0,T] \\rightarrow \\mathbb{R}$, and $g: \\mathbb{R} \\rightarrow \\mathbb{R}$ (pay-off function).\n",
    "\n",
    "The solution $v(t, x)$ represents the value of a European option with maturity time $T$, at time-to-maturity $t$ and spot price $x$."
   ]
  },
  {
   "cell_type": "code",
   "execution_count": 2,
   "metadata": {
    "collapsed": true
   },
   "outputs": [],
   "source": [
    "# Parameters:\n",
    "Nx = 10 # Number of points in the space grid.\n",
    "Nt = 100 # Number of points in the time grid.\n",
    "r = 0 # Interest rate\n",
    "sigma = 0.5 # Volatility\n",
    "T = 5 # Final time\n",
    "K = 100 # Strike Price\n",
    "R = 3*K # Artificial limit of asset price."
   ]
  },
  {
   "cell_type": "code",
   "execution_count": 15,
   "metadata": {
    "collapsed": true
   },
   "outputs": [],
   "source": [
    "def plot_sol(xmesh, u_computed, l_BC, r_BC, u_true=None):\n",
    "    \"\"\"\n",
    "    A function that plots the approximate \n",
    "    computed solution Uh v.s. the true solution U, \n",
    "    for a single time step.\n",
    "    \"\"\"\n",
    "    # Assembre complete solution with BCs\n",
    "    sol = np.zeros(Nx+1)\n",
    "    sol[0] = l_BC\n",
    "    sol[1:-1] = u_computed\n",
    "    sol[-1] = r_BC\n",
    "    \n",
    "    print(sol)\n",
    "    fig = pt.figure()\n",
    "    ax = fig.add_subplot(1,1,1)\n",
    "    ax.plot(xmesh, sol, 'ro', label = 'computed')\n",
    "    if(u_true is not None): ax.plot(xmesh, u_true, 'b-', label = 'true')\n",
    "    ax.set_title(r\"Black Scholes Equation @ time: \"+str(t))\n",
    "    ax.legend(loc='upper left')\n",
    "    ax.set_xlabel('Asset Price')\n",
    "    ax.set_ylabel('u(x,'+str(t)+') state') "
   ]
  },
  {
   "cell_type": "markdown",
   "metadata": {},
   "source": [
    "Small functions needed for the true solution."
   ]
  },
  {
   "cell_type": "code",
   "execution_count": 4,
   "metadata": {
    "collapsed": true
   },
   "outputs": [],
   "source": [
    "def d_minus(t,x):\n",
    "    if (t == 0 or x==0 or x==K): return -np.inf\n",
    "    return ( 1/(sigma*sqrt(t)) )*( log(x/K) + ( r - (sigma**2)/2 )*t )\n",
    "    \n",
    "def d_plus(t,x):\n",
    "    if(t==0): return np.inf\n",
    "    elif(x==K or x==0): return -np.inf\n",
    "    return ( 1/(sigma*sqrt(t)) )*( log(x/K) + ( r + (sigma**2)/2 )*t )\n",
    "    \n",
    "def m_erfc(x):\n",
    "    \"\"\"\n",
    "    Vector valued error function.\n",
    "    \"\"\"\n",
    "    if isinstance(x, (float, int)): # Scalar input\n",
    "        return erfc(x)\n",
    "    else: # Vector input\n",
    "        result = np.zeros(x.size)\n",
    "        for i in range(x.size):\n",
    "            result[i] = erfc(x[i])\n",
    "        return result\n",
    "    \n",
    "def stdCumNormal(d):\n",
    "    return 0.5*m_erfc( -( d/sqrt(2)) )"
   ]
  },
  {
   "cell_type": "code",
   "execution_count": 35,
   "metadata": {
    "collapsed": false
   },
   "outputs": [
    {
     "data": {
      "text/plain": [
       "-inf"
      ]
     },
     "execution_count": 35,
     "metadata": {},
     "output_type": "execute_result"
    }
   ],
   "source": []
  },
  {
   "cell_type": "markdown",
   "metadata": {},
   "source": [
    "Boundary and Initial Condition Functions"
   ]
  },
  {
   "cell_type": "code",
   "execution_count": 5,
   "metadata": {
    "collapsed": true
   },
   "outputs": [],
   "source": [
    "# Left Boundary Condition Function f0(t)\n",
    "def f_0(t):\n",
    "    return K*exp(-r*t)\n",
    "\n",
    "# Right Boundary Condition Function fR(t)\n",
    "def f_R(t):\n",
    "    return true_sol(t, R)\n",
    "\n",
    "# Initial condition function g(x) \n",
    "def g(x): \n",
    "    if isinstance(x, (float, int)): # Scalar input \n",
    "        return K-x if (x<K) else 0\n",
    "    else: # Vector input\n",
    "        result = np.zeros(x.size)\n",
    "        for i in range(x.size):\n",
    "            if x[i]<K: result[i] = K-x[i]\n",
    "        return result"
   ]
  },
  {
   "cell_type": "code",
   "execution_count": 38,
   "metadata": {
    "collapsed": false
   },
   "outputs": [],
   "source": [
    "def const_true_sol(t, x):\n",
    "    if(t==0): return g(x)\n",
    "    return K*exp(-r*t)*stdCumNormal(-d_minus(t,x)) - x*stdCumNormal(-d_plus(t,x))\n",
    "\n",
    "# True solution function\n",
    "def true_sol(t, x):\n",
    "    if isinstance(x, (float, int)): # Scalar input\n",
    "        return const_true_sol(t, x)\n",
    "    else: # Vector input\n",
    "        result = np.zeros(x.size)\n",
    "        for i in range(x.size):\n",
    "            print(x[i])\n",
    "            result[i] = const_true_sol(t, x[i])\n",
    "        return result"
   ]
  },
  {
   "cell_type": "code",
   "execution_count": 7,
   "metadata": {
    "collapsed": false
   },
   "outputs": [],
   "source": [
    "# Meshes\n",
    "xs = np.linspace(0,R, Nx+1)\n",
    "h = xs[1] - xs[0]\n",
    "ts = np.linspace(0,T, Nt+1)\n",
    "dt = ts[1] - ts[0]\n",
    "inner_xs = xs[1:-1]"
   ]
  },
  {
   "cell_type": "code",
   "execution_count": 39,
   "metadata": {
    "collapsed": false
   },
   "outputs": [
    {
     "name": "stdout",
     "output_type": "stream",
     "text": [
      "0.0\n"
     ]
    },
    {
     "ename": "ValueError",
     "evalue": "math domain error",
     "output_type": "error",
     "traceback": [
      "\u001b[0;31m----------------------------------------------------------------------\u001b[0m",
      "\u001b[0;31mValueError\u001b[0m                           Traceback (most recent call last)",
      "\u001b[0;32m<ipython-input-39-5bccdf8652c3>\u001b[0m in \u001b[0;36m<module>\u001b[0;34m()\u001b[0m\n\u001b[0;32m----> 1\u001b[0;31m \u001b[0mtrue_sol\u001b[0m\u001b[0;34m(\u001b[0m\u001b[0;36m0.5\u001b[0m\u001b[0;34m,\u001b[0m \u001b[0mxs\u001b[0m\u001b[0;34m)\u001b[0m\u001b[0;34m\u001b[0m\u001b[0m\n\u001b[0m",
      "\u001b[0;32m<ipython-input-38-01c31e5ec9db>\u001b[0m in \u001b[0;36mtrue_sol\u001b[0;34m(t, x)\u001b[0m\n\u001b[1;32m     11\u001b[0m         \u001b[0;32mfor\u001b[0m \u001b[0mi\u001b[0m \u001b[0;32min\u001b[0m \u001b[0mrange\u001b[0m\u001b[0;34m(\u001b[0m\u001b[0mx\u001b[0m\u001b[0;34m.\u001b[0m\u001b[0msize\u001b[0m\u001b[0;34m)\u001b[0m\u001b[0;34m:\u001b[0m\u001b[0;34m\u001b[0m\u001b[0m\n\u001b[1;32m     12\u001b[0m             \u001b[0mprint\u001b[0m\u001b[0;34m(\u001b[0m\u001b[0mx\u001b[0m\u001b[0;34m[\u001b[0m\u001b[0mi\u001b[0m\u001b[0;34m]\u001b[0m\u001b[0;34m)\u001b[0m\u001b[0;34m\u001b[0m\u001b[0m\n\u001b[0;32m---> 13\u001b[0;31m             \u001b[0mresult\u001b[0m\u001b[0;34m[\u001b[0m\u001b[0mi\u001b[0m\u001b[0;34m]\u001b[0m \u001b[0;34m=\u001b[0m \u001b[0mconst_true_sol\u001b[0m\u001b[0;34m(\u001b[0m\u001b[0mt\u001b[0m\u001b[0;34m,\u001b[0m \u001b[0mx\u001b[0m\u001b[0;34m[\u001b[0m\u001b[0mi\u001b[0m\u001b[0;34m]\u001b[0m\u001b[0;34m)\u001b[0m\u001b[0;34m\u001b[0m\u001b[0m\n\u001b[0m\u001b[1;32m     14\u001b[0m         \u001b[0;32mreturn\u001b[0m \u001b[0mresult\u001b[0m\u001b[0;34m\u001b[0m\u001b[0m\n",
      "\u001b[0;32m<ipython-input-38-01c31e5ec9db>\u001b[0m in \u001b[0;36mconst_true_sol\u001b[0;34m(t, x)\u001b[0m\n\u001b[1;32m      1\u001b[0m \u001b[0;32mdef\u001b[0m \u001b[0mconst_true_sol\u001b[0m\u001b[0;34m(\u001b[0m\u001b[0mt\u001b[0m\u001b[0;34m,\u001b[0m \u001b[0mx\u001b[0m\u001b[0;34m)\u001b[0m\u001b[0;34m:\u001b[0m\u001b[0;34m\u001b[0m\u001b[0m\n\u001b[1;32m      2\u001b[0m     \u001b[0;32mif\u001b[0m\u001b[0;34m(\u001b[0m\u001b[0mt\u001b[0m\u001b[0;34m==\u001b[0m\u001b[0;36m0\u001b[0m\u001b[0;34m)\u001b[0m\u001b[0;34m:\u001b[0m \u001b[0;32mreturn\u001b[0m \u001b[0mg\u001b[0m\u001b[0;34m(\u001b[0m\u001b[0mx\u001b[0m\u001b[0;34m)\u001b[0m\u001b[0;34m\u001b[0m\u001b[0m\n\u001b[0;32m----> 3\u001b[0;31m     \u001b[0;32mreturn\u001b[0m \u001b[0mK\u001b[0m\u001b[0;34m*\u001b[0m\u001b[0mexp\u001b[0m\u001b[0;34m(\u001b[0m\u001b[0;34m-\u001b[0m\u001b[0mr\u001b[0m\u001b[0;34m*\u001b[0m\u001b[0mt\u001b[0m\u001b[0;34m)\u001b[0m\u001b[0;34m*\u001b[0m\u001b[0mstdCumNormal\u001b[0m\u001b[0;34m(\u001b[0m\u001b[0;34m-\u001b[0m\u001b[0md_minus\u001b[0m\u001b[0;34m(\u001b[0m\u001b[0mt\u001b[0m\u001b[0;34m,\u001b[0m\u001b[0mx\u001b[0m\u001b[0;34m)\u001b[0m\u001b[0;34m)\u001b[0m \u001b[0;34m-\u001b[0m \u001b[0mx\u001b[0m\u001b[0;34m*\u001b[0m\u001b[0mstdCumNormal\u001b[0m\u001b[0;34m(\u001b[0m\u001b[0;34m-\u001b[0m\u001b[0md_plus\u001b[0m\u001b[0;34m(\u001b[0m\u001b[0mt\u001b[0m\u001b[0;34m,\u001b[0m\u001b[0mx\u001b[0m\u001b[0;34m)\u001b[0m\u001b[0;34m)\u001b[0m\u001b[0;34m\u001b[0m\u001b[0m\n\u001b[0m\u001b[1;32m      4\u001b[0m \u001b[0;34m\u001b[0m\u001b[0m\n\u001b[1;32m      5\u001b[0m \u001b[0;31m# True solution function\u001b[0m\u001b[0;34m\u001b[0m\u001b[0;34m\u001b[0m\u001b[0m\n",
      "\u001b[0;32m<ipython-input-4-0cb81e03c21a>\u001b[0m in \u001b[0;36md_minus\u001b[0;34m(t, x)\u001b[0m\n\u001b[1;32m      1\u001b[0m \u001b[0;32mdef\u001b[0m \u001b[0md_minus\u001b[0m\u001b[0;34m(\u001b[0m\u001b[0mt\u001b[0m\u001b[0;34m,\u001b[0m\u001b[0mx\u001b[0m\u001b[0;34m)\u001b[0m\u001b[0;34m:\u001b[0m\u001b[0;34m\u001b[0m\u001b[0m\n\u001b[1;32m      2\u001b[0m     \u001b[0;32mif\u001b[0m \u001b[0;34m(\u001b[0m\u001b[0mt\u001b[0m \u001b[0;34m==\u001b[0m \u001b[0;36m0\u001b[0m \u001b[0;32mor\u001b[0m \u001b[0mx\u001b[0m\u001b[0;34m==\u001b[0m\u001b[0mK\u001b[0m\u001b[0;34m)\u001b[0m\u001b[0;34m:\u001b[0m \u001b[0;32mreturn\u001b[0m \u001b[0;34m-\u001b[0m\u001b[0mnp\u001b[0m\u001b[0;34m.\u001b[0m\u001b[0minf\u001b[0m\u001b[0;34m\u001b[0m\u001b[0m\n\u001b[0;32m----> 3\u001b[0;31m     \u001b[0;32mreturn\u001b[0m \u001b[0;34m(\u001b[0m \u001b[0;36m1\u001b[0m\u001b[0;34m/\u001b[0m\u001b[0;34m(\u001b[0m\u001b[0msigma\u001b[0m\u001b[0;34m*\u001b[0m\u001b[0msqrt\u001b[0m\u001b[0;34m(\u001b[0m\u001b[0mt\u001b[0m\u001b[0;34m)\u001b[0m\u001b[0;34m)\u001b[0m \u001b[0;34m)\u001b[0m\u001b[0;34m*\u001b[0m\u001b[0;34m(\u001b[0m \u001b[0mlog\u001b[0m\u001b[0;34m(\u001b[0m\u001b[0mx\u001b[0m\u001b[0;34m/\u001b[0m\u001b[0mK\u001b[0m\u001b[0;34m)\u001b[0m \u001b[0;34m+\u001b[0m \u001b[0;34m(\u001b[0m \u001b[0mr\u001b[0m \u001b[0;34m-\u001b[0m \u001b[0;34m(\u001b[0m\u001b[0msigma\u001b[0m\u001b[0;34m**\u001b[0m\u001b[0;36m2\u001b[0m\u001b[0;34m)\u001b[0m\u001b[0;34m/\u001b[0m\u001b[0;36m2\u001b[0m \u001b[0;34m)\u001b[0m\u001b[0;34m*\u001b[0m\u001b[0mt\u001b[0m \u001b[0;34m)\u001b[0m\u001b[0;34m\u001b[0m\u001b[0m\n\u001b[0m\u001b[1;32m      4\u001b[0m \u001b[0;34m\u001b[0m\u001b[0m\n\u001b[1;32m      5\u001b[0m \u001b[0;32mdef\u001b[0m \u001b[0md_plus\u001b[0m\u001b[0;34m(\u001b[0m\u001b[0mt\u001b[0m\u001b[0;34m,\u001b[0m\u001b[0mx\u001b[0m\u001b[0;34m)\u001b[0m\u001b[0;34m:\u001b[0m\u001b[0;34m\u001b[0m\u001b[0m\n",
      "\u001b[0;31mValueError\u001b[0m: math domain error"
     ]
    }
   ],
   "source": [
    "true_sol(0.5, xs)"
   ]
  },
  {
   "cell_type": "raw",
   "metadata": {
    "collapsed": false
   },
   "source": [
    "plot_xs = np.linspace(0,300,100)\n",
    "fig = pt.figure()\n",
    "ax = fig.add_subplot(1,1,1)\n",
    "ax.plot(plot_xs, true_sol(T/2,plot_xs), 'b-', label = 'true')\n",
    "ax.legend(loc='upper left')"
   ]
  },
  {
   "cell_type": "markdown",
   "metadata": {},
   "source": [
    "Semi-Implicit Discretization"
   ]
  },
  {
   "cell_type": "code",
   "execution_count": 9,
   "metadata": {
    "collapsed": false
   },
   "outputs": [],
   "source": [
    "# Coefficients for tridiagonal matrix\n",
    "alpha = (sigma**2)*dt\n",
    "beta = r*dt\n",
    "\n",
    "ldiag = np.zeros(Nx-2)\n",
    "mdiag = np.zeros(Nx-1)\n",
    "udiag = np.zeros(Nx-2)\n",
    "\n",
    "l_0 = -0.5*alpha\n",
    "for n in range(1, Nx-1):\n",
    "    ldiag[n-1] = -0.5*alpha*( (n+1)**2 ) # Lower diagonal vector\n",
    "    mdiag[n-1] = 1 + beta + beta*n + alpha*(n**2) # Main diagonal vector\n",
    "    udiag[n-1] = -( beta*n + 0.5*alpha*(n**2) ) # Upper diagonal vector. \n",
    "mdiag[Nx-2] = 1 + beta + beta*(Nx-1) + alpha*( (Nx-1)**2 )\n",
    "u_R = -( beta*(Nx-1) + 0.5*alpha*((Nx-1)**2) )"
   ]
  },
  {
   "cell_type": "code",
   "execution_count": 25,
   "metadata": {
    "collapsed": false
   },
   "outputs": [
    {
     "name": "stdout",
     "output_type": "stream",
     "text": [
      "[-0.025   -0.05625 -0.1     -0.15625 -0.225   -0.30625 -0.4     -0.50625]\n",
      "[ 1.0125  1.05    1.1125  1.2     1.3125  1.45    1.6125  1.8     2.0125]\n",
      "[-0.00625 -0.025   -0.05625 -0.1     -0.15625 -0.225   -0.30625 -0.4    ]\n"
     ]
    }
   ],
   "source": [
    "print(ldiag)\n",
    "print(mdiag)\n",
    "print(udiag)"
   ]
  },
  {
   "cell_type": "code",
   "execution_count": 10,
   "metadata": {
    "collapsed": false
   },
   "outputs": [
    {
     "data": {
      "text/plain": [
       "9"
      ]
     },
     "execution_count": 10,
     "metadata": {},
     "output_type": "execute_result"
    }
   ],
   "source": [
    "inner_xs.size"
   ]
  },
  {
   "cell_type": "markdown",
   "metadata": {},
   "source": [
    "Fully Implicit Discretization."
   ]
  },
  {
   "cell_type": "raw",
   "metadata": {},
   "source": [
    "ones = np.ones(xs.size) # vector of ones.\n",
    "alpha = (sigma**2)*dt\n",
    "beta = r*dt\n",
    "ldiag = 0.5*(beta*xs - alpha*(xs**2))\n",
    "mdiag = (ones+beta*ones+alpha*(xs**2))\n",
    "udiag = -0.5*(beta*xs + alpha*(xs**2))"
   ]
  },
  {
   "cell_type": "code",
   "execution_count": 11,
   "metadata": {
    "collapsed": false
   },
   "outputs": [
    {
     "data": {
      "text/plain": [
       "9"
      ]
     },
     "execution_count": 11,
     "metadata": {},
     "output_type": "execute_result"
    }
   ],
   "source": [
    "mdiag.size"
   ]
  },
  {
   "cell_type": "code",
   "execution_count": 31,
   "metadata": {
    "collapsed": false
   },
   "outputs": [
    {
     "name": "stdout",
     "output_type": "stream",
     "text": [
      "[[ 1.0125  -0.00625  0.       0.       0.       0.       0.       0.       0.     ]\n",
      " [-0.025    1.05    -0.025    0.       0.       0.       0.       0.       0.     ]\n",
      " [ 0.      -0.05625  1.1125  -0.05625  0.       0.       0.       0.       0.     ]\n",
      " [ 0.       0.      -0.1      1.2     -0.1      0.       0.       0.       0.     ]\n",
      " [ 0.       0.       0.      -0.15625  1.3125  -0.15625  0.       0.       0.     ]\n",
      " [ 0.       0.       0.       0.      -0.225    1.45    -0.225    0.       0.     ]\n",
      " [ 0.       0.       0.       0.       0.      -0.30625  1.6125  -0.30625\n",
      "   0.     ]\n",
      " [ 0.       0.       0.       0.       0.       0.      -0.4      1.8     -0.4    ]\n",
      " [ 0.       0.       0.       0.       0.       0.       0.      -0.50625\n",
      "   2.0125 ]]\n"
     ]
    }
   ],
   "source": [
    "# Inner Sparse Tridiagonal Matrix\n",
    "A = sps.diags([ldiag, mdiag, udiag], offsets = [-1,0,1])\n",
    "A = sps.csr_matrix(A)\n",
    "print(A.todense())"
   ]
  },
  {
   "cell_type": "code",
   "execution_count": 16,
   "metadata": {
    "collapsed": false
   },
   "outputs": [
    {
     "name": "stdout",
     "output_type": "stream",
     "text": [
      "[  1.00000000e+02   7.06250000e+01   4.00000000e+01   1.00000000e+01\n",
      "   0.00000000e+00   0.00000000e+00   0.00000000e+00   0.00000000e+00\n",
      "   0.00000000e+00   4.23604476e-23   8.36749583e-23]\n",
      "[  7.06250000e+01   4.00000000e+01   1.00000000e+01   0.00000000e+00\n",
      "   0.00000000e+00   0.00000000e+00   0.00000000e+00   0.00000000e+00\n",
      "   4.23604476e-23]\n",
      "[ 100.           71.70135425   48.96319624   34.32340082   24.64765816\n",
      "   18.10388785   13.55805651   10.31822583    7.95503155    8.75433935\n",
      "    5.05456895]\n",
      "[ 71.70135425  48.96319624  34.32340082  24.64765816  18.10388785\n",
      "  13.55805651  10.31822583   7.95503155   8.75433935]\n",
      "[ 100.           74.35133521   56.86403901   45.41576077   37.20777339\n",
      "   31.07749097   26.35406347   22.6243071    19.62019933   24.91737332\n",
      "   15.3221925 ]\n",
      "[ 74.35133521  56.86403901  45.41576077  37.20777339  31.07749097\n",
      "  26.35406347  22.6243071   19.62019933  24.91737332]\n"
     ]
    },
    {
     "data": {
      "image/png": "[encoded data removed]",
      "text/plain": [
       "<matplotlib.figure.Figure at 0x1101dbe48>"
      ]
     },
     "metadata": {},
     "output_type": "display_data"
    },
    {
     "data": {
      "image/png": "[encoded data removed]",
      "text/plain": [
       "<matplotlib.figure.Figure at 0x110435358>"
      ]
     },
     "metadata": {},
     "output_type": "display_data"
    },
    {
     "data": {
      "image/png": "[encoded data removed]",
      "text/plain": [
       "<matplotlib.figure.Figure at 0x1101fb630>"
      ]
     },
     "metadata": {},
     "output_type": "display_data"
    }
   ],
   "source": [
    "uh = g(inner_xs) # Initial Condition\n",
    "for t in ts:\n",
    "    \n",
    "    l_BC = f_0(t + dt)\n",
    "    r_BC = f_R(t + dt)\n",
    "    \n",
    "    uh[0] = uh[0] - l_0*l_BC # Include Left BC\n",
    "    uh[-1] = uh[-1] - u_R*r_BC # Include Right BC\n",
    " \n",
    "    if(t==0 or t == T/2 or t==T):\n",
    "        #u_true = true_sol(t, xs)\n",
    "        plot_sol(xs, uh, l_BC, r_BC)\n",
    "        print (uh)\n",
    "           \n",
    "    uh = sps.linalg.spsolve(A, uh) "
   ]
  },
  {
   "cell_type": "code",
   "execution_count": 28,
   "metadata": {
    "collapsed": false
   },
   "outputs": [
    {
     "name": "stdout",
     "output_type": "stream",
     "text": [
      "-0.00625\n",
      "-0.025\n",
      "-0.05625\n",
      "-0.1\n",
      "-0.15625\n",
      "-0.225\n",
      "-0.30625\n",
      "-0.4\n",
      "-0.50625\n",
      "\n",
      "-0.00625\n",
      "-0.025\n",
      "-0.05625\n",
      "-0.1\n",
      "-0.15625\n",
      "-0.225\n",
      "-0.30625\n",
      "-0.4\n",
      "-0.50625\n"
     ]
    }
   ],
   "source": [
    "for n in range(2, Nx+1):\n",
    "    print(-( beta*(n-1) + 0.5*alpha*((n-1)**2) )) # Upper diagonal vector. )\n",
    "    \n",
    "print(\"\")\n",
    "for n in range(0, Nx-1):\n",
    "    print(-0.5*alpha*( (n+1)**2 )) # Lower diagonal vector) # Upper diagonal vector. )"
   ]
  },
  {
   "cell_type": "code",
   "execution_count": 32,
   "metadata": {
    "collapsed": false
   },
   "outputs": [
    {
     "name": "stdout",
     "output_type": "stream",
     "text": [
      "[-0.00625 -0.025   -0.05625 -0.1     -0.15625 -0.225   -0.30625 -0.4    ]\n",
      "-0.50625\n",
      "[-0.025   -0.05625 -0.1     -0.15625 -0.225   -0.30625 -0.4     -0.50625]\n",
      "-0.00625\n"
     ]
    }
   ],
   "source": [
    "print(udiag)\n",
    "print(-( beta*(Nx-1) + 0.5*alpha*((Nx-1)**2) ))\n",
    "print(ldiag)\n",
    "print(-0.5*alpha)"
   ]
  },
  {
   "cell_type": "code",
   "execution_count": 34,
   "metadata": {
    "collapsed": false
   },
   "outputs": [
    {
     "data": {
      "text/plain": [
       "8.367495826846484e-23"
      ]
     },
     "execution_count": 34,
     "metadata": {},
     "output_type": "execute_result"
    }
   ],
   "source": [
    "true_sol(dt, R)"
   ]
  },
  {
   "cell_type": "code",
   "execution_count": null,
   "metadata": {
    "collapsed": true
   },
   "outputs": [],
   "source": []
  }
 ],
 "metadata": {
  "kernelspec": {
   "display_name": "Python 3",
   "language": "python",
   "name": "python3"
  },
  "language_info": {
   "codemirror_mode": {
    "name": "ipython",
    "version": 3
   },
   "file_extension": ".py",
   "mimetype": "text/x-python",
   "name": "python",
   "nbconvert_exporter": "python",
   "pygments_lexer": "ipython3",
   "version": "3.5.1"
  }
 },
 "nbformat": 4,
 "nbformat_minor": 1
}
