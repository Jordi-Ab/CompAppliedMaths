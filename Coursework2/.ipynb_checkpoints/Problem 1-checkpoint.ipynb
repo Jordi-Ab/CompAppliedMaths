{
 "cells": [
  {
   "cell_type": "code",
   "execution_count": 1,
   "metadata": {
    "collapsed": true
   },
   "outputs": [],
   "source": [
    "import numpy as np\n",
    "import matplotlib.pyplot as pt\n",
    "import scipy.sparse as sps\n",
    "import scipy.linalg as la\n",
    "%matplotlib inline"
   ]
  },
  {
   "cell_type": "markdown",
   "metadata": {},
   "source": [
    "We'll solve\n",
    "\n",
    "$-\\large \\frac{d^2u}{dx^2}$$ = f(x)$, $\\space$ for $0 < x < 1$\n",
    "\n",
    "$u(0) = \\alpha$,$\\space$  $u(1) = \\beta$"
   ]
  },
  {
   "cell_type": "code",
   "execution_count": 8,
   "metadata": {
    "collapsed": true
   },
   "outputs": [],
   "source": [
    "#n = 9\n",
    "n = 200\n",
    "\n",
    "def f(xvec): return -np.ones(xvec.size)\n",
    "\n",
    "alpha = 0\n",
    "beta = 0\n",
    "\n",
    "mesh = np.linspace(0, 1, n)\n",
    "h = mesh[1] - mesh[0]"
   ]
  },
  {
   "cell_type": "code",
   "execution_count": 9,
   "metadata": {
    "collapsed": true
   },
   "outputs": [],
   "source": [
    "def true_sol(x):\n",
    "    return (1/2)*x*(1-x)"
   ]
  },
  {
   "cell_type": "code",
   "execution_count": 10,
   "metadata": {
    "collapsed": true
   },
   "outputs": [],
   "source": [
    "def solve(l_BC, r_BC, this_mesh):\n",
    "    \n",
    "    _n = this_mesh.size\n",
    "    \n",
    "    # Inner Second Order Difference Matrix\n",
    "    first_row = np.zeros(_n-2)\n",
    "    first_row[0] = -2; \n",
    "    first_row[1] = 1;\n",
    "    A = (1/h**2)*la.toeplitz(first_row)\n",
    "    \n",
    "    # Inner right hand side\n",
    "    rhs = f(this_mesh[1:-1])\n",
    "    \n",
    "    # Apply Boundary Conditions to rhs\n",
    "    rhs[0] = rhs[0] - l_BC/(h**2)\n",
    "    rhs[-1] = rhs[-1] - r_BC/(h**2)\n",
    "    \n",
    "    # Solve inner system\n",
    "    us = la.solve(A, rhs)\n",
    "    \n",
    "    # Assemble complete solution\n",
    "    sol = np.zeros(_n)\n",
    "    sol[0] = l_BC # Left Boundary condition\n",
    "    sol[1:-1] = us # Computed result\n",
    "    sol[-1] = r_BC # Right Boundary condition\n",
    "    \n",
    "    return sol"
   ]
  },
  {
   "cell_type": "code",
   "execution_count": 11,
   "metadata": {
    "collapsed": false
   },
   "outputs": [],
   "source": [
    "sol=solve(alpha, beta, mesh)"
   ]
  },
  {
   "cell_type": "code",
   "execution_count": 12,
   "metadata": {
    "collapsed": false
   },
   "outputs": [
    {
     "name": "stdout",
     "output_type": "stream",
     "text": [
      "For h: 0.00502512562814,\t\t error=2.6645352591e-15\n"
     ]
    }
   ],
   "source": [
    "# Error\n",
    "tr_sol = true_sol(mesh)\n",
    "error = la.norm(sol - tr_sol, np.inf)\n",
    "print(\"For h: \"+str(h)+\",\\t\\t error=\"+str(error))"
   ]
  },
  {
   "cell_type": "code",
   "execution_count": 13,
   "metadata": {
    "collapsed": false
   },
   "outputs": [
    {
     "data": {
      "text/plain": [
       "<matplotlib.text.Text at 0x10ce26be0>"
      ]
     },
     "execution_count": 13,
     "metadata": {},
     "output_type": "execute_result"
    },
    {
     "data": {
      "image/png": "[encoded data removed]",
      "text/plain": [
       "<matplotlib.figure.Figure at 0x10f7a3b38>"
      ]
     },
     "metadata": {},
     "output_type": "display_data"
    }
   ],
   "source": [
    "fig = pt.figure()\n",
    "ax1 = fig.add_subplot(1,1,1)\n",
    "ax1.plot(mesh, sol, 'ro', label='computed')\n",
    "ax1.plot(mesh, true_sol(mesh), label='true')\n",
    "ax1.set_title(r\"Model Problem 1\")\n",
    "ax1.legend(loc='upper left')\n",
    "ax1.set_xlabel('time')\n",
    "ax1.set_ylabel('state')"
   ]
  },
  {
   "cell_type": "markdown",
   "metadata": {
    "collapsed": false
   },
   "source": [
    "Code Verification"
   ]
  },
  {
   "cell_type": "code",
   "execution_count": 14,
   "metadata": {
    "collapsed": false
   },
   "outputs": [
    {
     "ename": "SyntaxError",
     "evalue": "invalid syntax (<ipython-input-14-f4532888209d>, line 15)",
     "output_type": "error",
     "traceback": [
      "\u001b[0;36m  File \u001b[0;32m\"<ipython-input-14-f4532888209d>\"\u001b[0;36m, line \u001b[0;32m15\u001b[0m\n\u001b[0;31m    print(\"h = \"+str(mesh_size)+, \"n = \"+str(this_n)+\"\\t\\t error=\"+str(norm))\u001b[0m\n\u001b[0m                                ^\u001b[0m\n\u001b[0;31mSyntaxError\u001b[0m\u001b[0;31m:\u001b[0m invalid syntax\n"
     ]
    }
   ],
   "source": [
    "mesh_size = 1/2\n",
    "hs = []\n",
    "errs = []\n",
    "while(mesh_size>1e-3):\n",
    "    mesh_size /= 2\n",
    "    this_n = 1/mesh_size\n",
    "    this_mesh = np.linspace(0,1,this_n)\n",
    "    this_sol = solve(alpha, beta, this_mesh)\n",
    "    true_s = true_sol(this_mesh)\n",
    "    norm = la.norm(this_sol - true_s, np.inf)\n",
    "    \n",
    "    hs.append(mesh_size)\n",
    "    errs.append(norm)\n",
    "    \n",
    "    print(\"h = \"+str(mesh_size)+ \", n = \"+str(this_n)+\"\\t\\t error=\"+str(norm))"
   ]
  },
  {
   "cell_type": "code",
   "execution_count": 8,
   "metadata": {
    "collapsed": false
   },
   "outputs": [
    {
     "data": {
      "text/plain": [
       "[<matplotlib.lines.Line2D at 0x10f6bb550>]"
      ]
     },
     "execution_count": 8,
     "metadata": {},
     "output_type": "execute_result"
    },
    {
     "data": {
      "image/png": "[encoded data removed]",
      "text/plain": [
       "<matplotlib.figure.Figure at 0x10cee37f0>"
      ]
     },
     "metadata": {},
     "output_type": "display_data"
    }
   ],
   "source": [
    "pt.loglog(hs, errs, 'b-', lw=2)"
   ]
  },
  {
   "cell_type": "code",
   "execution_count": null,
   "metadata": {
    "collapsed": true
   },
   "outputs": [],
   "source": []
  }
 ],
 "metadata": {
  "kernelspec": {
   "display_name": "Python 3",
   "language": "python",
   "name": "python3"
  },
  "language_info": {
   "codemirror_mode": {
    "name": "ipython",
    "version": 3
   },
   "file_extension": ".py",
   "mimetype": "text/x-python",
   "name": "python",
   "nbconvert_exporter": "python",
   "pygments_lexer": "ipython3",
   "version": "3.5.1"
  }
 },
 "nbformat": 4,
 "nbformat_minor": 1
}
