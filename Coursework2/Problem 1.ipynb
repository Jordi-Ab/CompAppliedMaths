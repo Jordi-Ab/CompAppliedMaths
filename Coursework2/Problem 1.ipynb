{
 "cells": [
  {
   "cell_type": "code",
   "execution_count": 40,
   "metadata": {
    "collapsed": true
   },
   "outputs": [],
   "source": [
    "import numpy as np\n",
    "import matplotlib.pyplot as pt\n",
    "import scipy.linalg as la\n",
    "%matplotlib inline"
   ]
  },
  {
   "cell_type": "markdown",
   "metadata": {},
   "source": [
    "We'll solve\n",
    "\n",
    "$-\\large \\frac{d^2u}{dx^2}$$ = f(x)$, $\\space$ for $0 < x < 1$\n",
    "\n",
    "$u(0) = \\alpha$,$\\space$  $u(1) = \\beta$"
   ]
  },
  {
   "cell_type": "code",
   "execution_count": 41,
   "metadata": {
    "collapsed": true
   },
   "outputs": [],
   "source": [
    "def grid_2norm(xvec, h):\n",
    "    s = 0\n",
    "    for x in xvec:\n",
    "        s += abs(x)**2\n",
    "    return np.sqrt(h*s)"
   ]
  },
  {
   "cell_type": "code",
   "execution_count": 42,
   "metadata": {
    "collapsed": true
   },
   "outputs": [],
   "source": [
    "def f(xvec): \n",
    "    return (np.pi**2)*np.sin(np.pi*xvec)\n",
    "\n",
    "def true_sol(x):\n",
    "    return x - np.sin(np.pi*x)"
   ]
  },
  {
   "cell_type": "code",
   "execution_count": 43,
   "metadata": {
    "collapsed": true
   },
   "outputs": [],
   "source": [
    "n = 9\n",
    "#n = 32\n",
    "\n",
    "alpha = 0\n",
    "beta = 1\n",
    "\n",
    "mesh = np.linspace(0, 1, n+1)\n",
    "h = mesh[1] - mesh[0]"
   ]
  },
  {
   "cell_type": "code",
   "execution_count": 44,
   "metadata": {
    "collapsed": false
   },
   "outputs": [
    {
     "name": "stdout",
     "output_type": "stream",
     "text": [
      "0.111111111111\n",
      "[ 0.          0.11111111  0.22222222  0.33333333  0.44444444  0.55555556\n",
      "  0.66666667  0.77777778  0.88888889  1.        ]\n"
     ]
    }
   ],
   "source": [
    "print(h)\n",
    "print(mesh)"
   ]
  },
  {
   "cell_type": "code",
   "execution_count": 45,
   "metadata": {
    "collapsed": false
   },
   "outputs": [
    {
     "name": "stdout",
     "output_type": "stream",
     "text": [
      "[[-162.   81.    0.    0.    0.    0.    0.    0.]\n",
      " [  81. -162.   81.    0.    0.    0.    0.    0.]\n",
      " [   0.   81. -162.   81.    0.    0.    0.    0.]\n",
      " [   0.    0.   81. -162.   81.    0.    0.    0.]\n",
      " [   0.    0.    0.   81. -162.   81.    0.    0.]\n",
      " [   0.    0.    0.    0.   81. -162.   81.    0.]\n",
      " [   0.    0.    0.    0.    0.   81. -162.   81.]\n",
      " [   0.    0.    0.    0.    0.    0.   81. -162.]]\n"
     ]
    }
   ],
   "source": [
    "# Inner Second Order Difference Matrix\n",
    "first_row = np.zeros(n-1)\n",
    "first_row[0] = -2; \n",
    "first_row[1] = 1;\n",
    "A = (1/h**2)*la.toeplitz(first_row)\n",
    "print(A)"
   ]
  },
  {
   "cell_type": "code",
   "execution_count": 46,
   "metadata": {
    "collapsed": false
   },
   "outputs": [
    {
     "name": "stdout",
     "output_type": "stream",
     "text": [
      "[ 3.37560351  6.34405942  8.54732814  9.71966293  9.71966293  8.54732814\n",
      "  6.34405942  3.37560351]\n"
     ]
    }
   ],
   "source": [
    "rhs = f(mesh[1:-1])\n",
    "print(rhs)"
   ]
  },
  {
   "cell_type": "code",
   "execution_count": 47,
   "metadata": {
    "collapsed": false
   },
   "outputs": [],
   "source": [
    "# Apply Boundary Conditions to rhs\n",
    "rhs[0] = rhs[0] - (alpha/(h**2))\n",
    "rhs[-1] = rhs[-1] - (beta/(h**2))"
   ]
  },
  {
   "cell_type": "code",
   "execution_count": 48,
   "metadata": {
    "collapsed": false
   },
   "outputs": [
    {
     "name": "stdout",
     "output_type": "stream",
     "text": [
      "[  3.37560351   6.34405942   8.54732814   9.71966293   9.71966293\n",
      "   8.54732814   6.34405942 -77.62439649]\n"
     ]
    }
   ],
   "source": [
    "print(rhs)"
   ]
  },
  {
   "cell_type": "code",
   "execution_count": 49,
   "metadata": {
    "collapsed": true
   },
   "outputs": [],
   "source": [
    "# Solve inner system\n",
    "us = la.solve(A, rhs)"
   ]
  },
  {
   "cell_type": "code",
   "execution_count": 50,
   "metadata": {
    "collapsed": false
   },
   "outputs": [],
   "source": [
    "# Assemble complete solution\n",
    "sol = np.zeros(n+1)\n",
    "sol[0] = alpha # Left Boundary condition\n",
    "sol[1:-1] = us # Computed result\n",
    "sol[-1] = beta # Right Boundary condition"
   ]
  },
  {
   "cell_type": "code",
   "execution_count": 53,
   "metadata": {
    "collapsed": false
   },
   "outputs": [
    {
     "name": "stdout",
     "output_type": "stream",
     "text": [
      "[ 0.         -0.23440314 -0.42713215 -0.54153945 -0.55042418 -0.43931307\n",
      " -0.20820612  0.1284234   0.54337464  1.        ]\n"
     ]
    }
   ],
   "source": [
    "print(sol)"
   ]
  },
  {
   "cell_type": "code",
   "execution_count": 51,
   "metadata": {
    "collapsed": false
   },
   "outputs": [
    {
     "name": "stdout",
     "output_type": "stream",
     "text": [
      "For h: 0.111111111111,\t\t error=0.00722385630997\n"
     ]
    }
   ],
   "source": [
    "# Error\n",
    "tr_sol = true_sol(mesh)\n",
    "#error = la.norm(sol - tr_sol, np.inf)\n",
    "diff = sol - tr_sol\n",
    "error = grid_2norm(diff, h)\n",
    "print(\"For h: \"+str(h)+\",\\t\\t error=\"+str(error))"
   ]
  },
  {
   "cell_type": "code",
   "execution_count": 52,
   "metadata": {
    "collapsed": false
   },
   "outputs": [
    {
     "data": {
      "text/plain": [
       "<matplotlib.text.Text at 0x10f9795c0>"
      ]
     },
     "execution_count": 52,
     "metadata": {},
     "output_type": "execute_result"
    },
    {
     "data": {
      "image/png": "[encoded data removed]",
      "text/plain": [
       "<matplotlib.figure.Figure at 0x10f8a6ef0>"
      ]
     },
     "metadata": {},
     "output_type": "display_data"
    }
   ],
   "source": [
    "fig = pt.figure()\n",
    "ax1 = fig.add_subplot(1,1,1)\n",
    "ax1.plot(mesh, sol, 'ro', label='computed')\n",
    "ax1.plot(mesh, tr_sol, label='true')\n",
    "ax1.set_title(r\"Model Problem 1\")\n",
    "ax1.legend(loc='upper left')\n",
    "ax1.set_xlabel('time')\n",
    "ax1.set_ylabel('state')"
   ]
  },
  {
   "cell_type": "code",
   "execution_count": null,
   "metadata": {
    "collapsed": false
   },
   "outputs": [],
   "source": []
  },
  {
   "cell_type": "code",
   "execution_count": null,
   "metadata": {
    "collapsed": false
   },
   "outputs": [],
   "source": []
  },
  {
   "cell_type": "code",
   "execution_count": 16,
   "metadata": {
    "collapsed": false
   },
   "outputs": [
    {
     "name": "stdout",
     "output_type": "stream",
     "text": [
      "[ 0.       0.03125  0.0625   0.09375  0.125    0.15625  0.1875   0.21875\n",
      "  0.25     0.28125  0.3125   0.34375  0.375    0.40625  0.4375   0.46875\n",
      "  0.5      0.53125  0.5625   0.59375  0.625    0.65625  0.6875   0.71875\n",
      "  0.75     0.78125  0.8125   0.84375  0.875    0.90625  0.9375   0.96875\n",
      "  1.     ]\n",
      "h1: 0.03125\n",
      "h1: 0.03125\n"
     ]
    }
   ],
   "source": [
    "h = .03125\n",
    "n = (1/h)+1\n",
    "grid = np.linspace(0,1,n)\n",
    "print(grid)\n",
    "h1 = grid[1]- grid[0]\n",
    "print(\"h1: \"+str(h1))\n",
    "h2 = h\n",
    "print(\"h1: \"+str(h2))"
   ]
  },
  {
   "cell_type": "code",
   "execution_count": 17,
   "metadata": {
    "collapsed": false
   },
   "outputs": [
    {
     "data": {
      "text/plain": [
       "33"
      ]
     },
     "execution_count": 17,
     "metadata": {},
     "output_type": "execute_result"
    }
   ],
   "source": [
    "grid.size"
   ]
  },
  {
   "cell_type": "code",
   "execution_count": 16,
   "metadata": {
    "collapsed": false
   },
   "outputs": [
    {
     "data": {
      "text/plain": [
       "33"
      ]
     },
     "execution_count": 16,
     "metadata": {},
     "output_type": "execute_result"
    }
   ],
   "source": [
    "np.arange(0,1+h,h).size"
   ]
  },
  {
   "cell_type": "code",
   "execution_count": 13,
   "metadata": {
    "collapsed": true
   },
   "outputs": [],
   "source": [
    "n = 32"
   ]
  },
  {
   "cell_type": "code",
   "execution_count": 14,
   "metadata": {
    "collapsed": false
   },
   "outputs": [
    {
     "data": {
      "text/plain": [
       "0.03125"
      ]
     },
     "execution_count": 14,
     "metadata": {},
     "output_type": "execute_result"
    }
   ],
   "source": [
    "h=1/32\n",
    "h"
   ]
  },
  {
   "cell_type": "code",
   "execution_count": null,
   "metadata": {
    "collapsed": true
   },
   "outputs": [],
   "source": []
  }
 ],
 "metadata": {
  "kernelspec": {
   "display_name": "Python 3",
   "language": "python",
   "name": "python3"
  },
  "language_info": {
   "codemirror_mode": {
    "name": "ipython",
    "version": 3
   },
   "file_extension": ".py",
   "mimetype": "text/x-python",
   "name": "python",
   "nbconvert_exporter": "python",
   "pygments_lexer": "ipython3",
   "version": "3.5.1"
  }
 },
 "nbformat": 4,
 "nbformat_minor": 1
}
